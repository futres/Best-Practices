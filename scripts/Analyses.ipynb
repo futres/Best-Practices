{
 "cells": [
  {
   "cell_type": "code",
   "execution_count": null,
   "metadata": {},
   "outputs": [],
   "source": [
    "## Upload data\n",
    "panthera <- read.csv(\"pantheria.csv\", header = TRUE, stringsAsFactors = FALSE)\n",
    "#kitty_deer <- read.csv(\"EAP Florida Modern Deer Measurements_FORFUTRES_1_23_2020.csv\", header = TRUE, stringsAsFactors = FALSE)\n",
    "#blois_ground.squirrel <- read.csv(\"J.Biogeo.2008.AllData.Final.csv\", header = TRUE, stringsAsFactors = FALSE)\n",
    "#amelia_impala <- read.csv(\"Extant Aepyceros database_updated 11_2016.csv\", header = TRUE, stringsAsFactors = FALSE)\n",
    "bernor_equid <- read.csv(\"ToFuTRESVER_12_4_16_2020_REV_19.csv\", header = TRUE, stringsAsFactors = FALSE)\n",
    "\n",
    "futres <- read.csv(\"futres.csv\", header = TRUE, stringsAsFactors = FALSE)\n",
    "\n",
    "bat_mass <- read.csv(\"vertnet_bats_body_mass_2020-04-16a.csv\", header = TRUE, stringsAsFactors = FALSE)\n",
    "bat_length <- read.csv(\"vertnet_bats_total_len_2020-04-16a.csv\", header = TRUE, stringsAsFactors = FALSE)\n",
    "mamm_mass <- read.csv(\"vertnet_no_bats_body_mass_2020-04-16a.csv\", header = TRUE, stringsAsFactors = FALSE)\n",
    "mamm_length <- read.csv(\"vertnet_no_bats_total_len_2020-04-16a.csv\", header = TRUE, stringsAsFactors = FALSE)"
   ]
  },
  {
   "cell_type": "code",
   "execution_count": null,
   "metadata": {},
   "outputs": [],
   "source": [
    "## Load packages\n",
    "require(tidyverse)\n",
    "require(nlme)\n",
    "require(dplyr)\n",
    "require(ggplot2)\n",
    "require(reshape2)\n",
    "require(plyr)\n",
    "require(stringr)\n"
   ]
  },
  {
   "cell_type": "code",
   "execution_count": null,
   "metadata": {},
   "outputs": [],
   "source": [
    "## clean datasets\n",
    "#fix binomials\n",
    "bernor_equid$binomial <- paste(bernor_equid$GENUS, bernor_equid$SPECIES)\n",
    "\n",
    "#get rid of subspecies in Amelia's dataset\n",
    "# impala.names <- strsplit(as.character(amelia_impala$Species), \" \")\n",
    "# df <- data.frame(genus = sapply(impala.names, \"[\", 1), species = sapply(impala.names, \"[\", 2))\n",
    "# impala_binomial <- paste(df$genus, df$species)\n",
    "# impala <- cbind(amelia_impala, impala_binomial)\n",
    "# impala %>%\n",
    "#   select(Species, impala_binomial) #check that they are aligned properly\n",
    "\n",
    "sp.1 <- unique(futres$scientificName)\n",
    "\n",
    "pan <- panthera[(panthera$MSW05_Binomial %in% sp.1),]\n",
    "\n",
    "# select out adults only\n",
    "futres.adult <- dplyr::filter(futres, futres$lifeStage == \"Adult\" | futres$lifeStage == \"Prime Adult\" | futres$lifeStage == \"young adult\" | futres$lifeStage == \"adult\" | futres$ageValue > 1)\n",
    "bat.adult <- dplyr::filter(bat_mass, bat_mass$lifestage_cor == \"Adult\")\n",
    "mamm.adult <- dplyr::filter(mamm_mass, mamm_mass$lifestage_cor == \"Adult\")\n",
    "\n",
    "## need to get rid of subspecies\n",
    "bat.adult$scientificName <- word(bat.adult$scientificname, 1,2, sep = \" \")\n",
    "mamm.adult$scientificName <- word(mamm.adult$scientificname, 1,2, sep = \" \")\n"
   ]
  },
  {
   "cell_type": "markdown",
   "metadata": {},
   "source": [
    "# Q1. How do distributions compare to other, recorded species' averages or ranges?"
   ]
  },
  {
   "cell_type": "code",
   "execution_count": null,
   "metadata": {},
   "outputs": [],
   "source": [
    "#weight\n",
    "futres.mass <- futres.adult %>%\n",
    "  select(scientificName, mass = Total.Fresh.Weight..g.)\n",
    "bat.mass <- bat.adult %>%\n",
    "  select(scientificName, mass = body_mass_1.value)\n",
    "mamm.mass <- mamm.adult %>%\n",
    "  select(scientificName, mass = body_mass_1.value)\n",
    "\n",
    "futres.all.mass <- rbind(futres.mass, bat.mass, mamm.mass)\n",
    "futres.all.mass$mass <- as.numeric(futres.all.mass$mass)\n"
   ]
  },
  {
   "cell_type": "code",
   "execution_count": null,
   "metadata": {},
   "outputs": [],
   "source": [
    "# clean up data\n",
    "clean.masses <- futres.all.mass %>%\n",
    "  na.omit()\n",
    "\n",
    "counts.mass <- clean.masses %>%\n",
    "  dplyr::group_by(scientificName) %>%\n",
    "  dplyr::summarise(n = length(mass)) \n",
    "\n",
    "omit.mass <- counts.mass$scientificName[counts.mass$n < 10]\n",
    "\n",
    "clean.masses.10 <- clean.masses[!(clean.masses$scientificName %in% omit.mass),]\n",
    "length(unique(clean.masses$scientificName)) #98 spp"
   ]
  },
  {
   "cell_type": "code",
   "execution_count": null,
   "metadata": {},
   "outputs": [],
   "source": [
    "#need to figure out how to get this to go clean\n",
    "ggplot(melt(clean.masses), aes(x = log10(value))) + \n",
    "  facet_wrap(~ scientificName,  ncol = 2) +\n",
    "  ggtitle(~ scientificName) +\n",
    "  scale_x_continuous(name = expression(log[10]~Body~Mass~(g))) +\n",
    "  scale_y_continuous(name = \"Counts\")\n",
    "\n",
    "stats.mass <- clean.masses.10 %>%\n",
    "  dplyr::group_by(scientificName) %>%\n",
    "  dplyr::summarise(mean.mass = mean(mass), median.mass = median(mass),\n",
    "            min.mass = min(mass), max.mass = max(mass))"
   ]
  },
  {
   "cell_type": "code",
   "execution_count": null,
   "metadata": {},
   "outputs": [],
   "source": [
    "# length by mass\n",
    "futres.length.mass <- futres.adult %>%\n",
    "  select(scientificName, mass = Total.Fresh.Weight..g., total.length = TL..mm...Total.Length.)\n",
    "bat.length.mass <- bat.adult %>%\n",
    "  select(scientificName, mass = body_mass_1.value, total.length = total_length_1.value)\n",
    "mamm.length.mass <- mamm.adult %>%\n",
    "  select(scientificName, mass = body_mass_1.value, total.length = total_length_1.value)\n",
    "\n",
    "futres.all.length.mass <- rbind(futres.length.mass, bat.length.mass, mamm.length.mass)\n",
    "futres.all.length.mass$total.length <- as.numeric(futres.all.length.mass$total.length)\n",
    "futres.all.length.mass$mass <- as.numeric(futres.all.length.mass$mass)"
   ]
  },
  {
   "cell_type": "code",
   "execution_count": null,
   "metadata": {},
   "outputs": [],
   "source": [
    "# clean up data\n",
    "clean.length.mass <- futres.all.length.mass %>%\n",
    "  na.omit()\n",
    "\n",
    "counts <- clean.length.mass %>%\n",
    "  dplyr::group_by(scientificName) %>%\n",
    "  dplyr::summarise(n.mass = length(mass), n.length = length(total.length)) \n",
    "\n",
    "omit.length.mass <- counts$scientificName[counts$n.mass < 10 | counts$n.length < 10]\n",
    "\n",
    "clean.length.mass.10 <- clean.length.mass[!(clean.length.mass$scientificName %in% omit.length.mass),] #103 species\n",
    "\n",
    "length(unique(clean.length.mass.10$scientificName)) #94\n"
   ]
  },
  {
   "cell_type": "code",
   "execution_count": null,
   "metadata": {},
   "outputs": [],
   "source": [
    "models <- plyr::dlply(clean.length.mass, \"scientificName\", function(df) \n",
    "  lm(total.length ~ mass, data = df))\n",
    "plyr::ldply(models, coef)\n",
    "plyr::l_ply(models, summary, .print = TRUE)\n",
    "\n",
    "ggplot(clean.length.mass, aes(x = log10(mass), y = log10(total.length), color = scientificName)) + \n",
    "  geom_point() + \n",
    "  geom_smooth(method = \"lm\", #se = FALSE\n",
    "              alpha = .15, aes(fill = scientificName))\n",
    "\n",
    "# ggplot(clean.length.mass) + \n",
    "#   facet_wrap(~ scientificName,  ncol = 2) +\n",
    "#   geom_point(aes(x = log10(clean.length.mass$mass), y = clean.length.mass$total.length)) + \n",
    "#   geom_smooth(aes(x = log10(clean.length.mass$mass), y = clean.length.mass$total.length), method = \"lm\") + \n",
    "#   ggtitle(~ scientificName) +\n",
    "#   scale_x_continuous(name = expression(log[10]~Body~Mass~(g))) +\n",
    "#   scale_y_continuous(name = \"Total Length (cm)\")\n"
   ]
  }
 ],
 "metadata": {
  "kernelspec": {
   "display_name": "R",
   "language": "R",
   "name": "ir"
  }
 },
 "nbformat": 4,
 "nbformat_minor": 2
}
